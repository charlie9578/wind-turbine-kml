{
 "cells": [
  {
   "cell_type": "markdown",
   "id": "96767b74",
   "metadata": {},
   "source": [
    "# Creating A Collada Object\n",
    "\n",
    "The goal is to produce a basic Collada dae object for display in Google Earth"
   ]
  },
  {
   "cell_type": "code",
   "execution_count": 1,
   "id": "cd4fd11a",
   "metadata": {},
   "outputs": [],
   "source": [
    "from collada import *\n",
    "import simplekml\n",
    "import numpy"
   ]
  },
  {
   "cell_type": "markdown",
   "id": "b805f0ec",
   "metadata": {},
   "source": [
    "In this section, we outline how to create a collada document from scratch. First, let’s create an empy collada document:"
   ]
  },
  {
   "cell_type": "code",
   "execution_count": 2,
   "id": "aa2952c9",
   "metadata": {},
   "outputs": [],
   "source": [
    "mesh = Collada()"
   ]
  },
  {
   "cell_type": "markdown",
   "id": "8824b43a",
   "metadata": {},
   "source": [
    "We could save this out, but it would be completely blank. Let’s first add a Material to the document:"
   ]
  },
  {
   "cell_type": "code",
   "execution_count": 3,
   "id": "52f3a39f",
   "metadata": {},
   "outputs": [],
   "source": [
    "mesh = Collada()\n",
    "effect = material.Effect(\"effect0\", [], \"phong\", diffuse=(1,0,0), specular=(0,1,0))\n",
    "mat = material.Material(\"material0\", \"mymaterial\", effect)\n",
    "mesh.effects.append(effect)\n",
    "mesh.materials.append(mat)"
   ]
  },
  {
   "cell_type": "markdown",
   "id": "7bef2fb7",
   "metadata": {},
   "source": [
    "Note that the second argument to Effect is for parameters. These are used for textures. We omit textures for simplicity here.\n",
    "\n",
    "Next, let’s first create some source arrays. These are going to be used to create a triangle set later:"
   ]
  },
  {
   "cell_type": "code",
   "execution_count": 4,
   "id": "f4b0eca6",
   "metadata": {},
   "outputs": [],
   "source": [
    "vert_floats = [-50,50,50,50,50,50,-50,-50,50,50,\n",
    "     -50,50,-50,50,-50,50,50,-50,-50,-50,-50,50,-50,-50]\n",
    "\n",
    "normal_floats = [0,0,1,0,0,1,0,0,1,0,0,1,0,1,0,\n",
    "     0,1,0,0,1,0,0,1,0,0,-1,0,0,-1,0,0,-1,0,0,-1,0,-1,0,0,\n",
    "     -1,0,0,-1,0,0,-1,0,0,1,0,0,1,0,0,1,0,0,1,0,0,0,0,-1,\n",
    "     0,0,-1,0,0,-1,0,0,-1]\n",
    "\n",
    "vert_src = source.FloatSource(\"cubeverts-array\", numpy.array(vert_floats), ('X', 'Y', 'Z'))\n",
    "normal_src = source.FloatSource(\"cubenormals-array\", numpy.array(normal_floats), ('X', 'Y', 'Z'))"
   ]
  },
  {
   "cell_type": "markdown",
   "id": "8d4f3e2c",
   "metadata": {},
   "source": [
    "Now that we have some sources, let’s create a Geometry and add the sources to it:"
   ]
  },
  {
   "cell_type": "code",
   "execution_count": 5,
   "id": "81ec4b90",
   "metadata": {},
   "outputs": [],
   "source": [
    "geom = geometry.Geometry(mesh, \"geometry0\", \"mycube\", [vert_src, normal_src])"
   ]
  },
  {
   "cell_type": "markdown",
   "id": "3a04fdf5",
   "metadata": {},
   "source": [
    "To add a triangle set to the geometry, we can call the Geometry.createTriangleSet() method. To do this, we need to define the inputs to the triangle set. In this case, we are going to input the arrays we previously defined:"
   ]
  },
  {
   "cell_type": "code",
   "execution_count": 6,
   "id": "85107276",
   "metadata": {},
   "outputs": [],
   "source": [
    "input_list = source.InputList()\n",
    "input_list.addInput(0, 'VERTEX', \"#cubeverts-array\")\n",
    "input_list.addInput(1, 'NORMAL', \"#cubenormals-array\")"
   ]
  },
  {
   "cell_type": "markdown",
   "id": "bc1f78b8",
   "metadata": {},
   "source": [
    "This says to use the source with identifier cubeverts-array as the vertex source and source with identifier cubenormals-array as the normal source. The offsets indicate that the vertex data is the first offset in the index array and the normal data is the second offset in the index array. Let’s now create the index array:"
   ]
  },
  {
   "cell_type": "code",
   "execution_count": 7,
   "id": "7f930e3d",
   "metadata": {},
   "outputs": [],
   "source": [
    "indices = numpy.array([0,0,2,1,3,2,0,0,3,2,1,3,0,4,1,5,5,6,0,\n",
    "     4,5,6,4,7,6,8,7,9,3,10,6,8,3,10,2,11,0,12,\n",
    "     4,13,6,14,0,12,6,14,2,15,3,16,7,17,5,18,3,\n",
    "     16,5,18,1,19,5,20,7,21,6,22,5,20,6,22,4,23])"
   ]
  },
  {
   "cell_type": "markdown",
   "id": "28df7d0a",
   "metadata": {},
   "source": [
    "Now that we have an index array, an input list, and a material, we can create a triangle set and add it to the geometry’s list of primitives. We then add it to the list of geometries in the mesh:"
   ]
  },
  {
   "cell_type": "code",
   "execution_count": 8,
   "id": "9b3dac75",
   "metadata": {},
   "outputs": [],
   "source": [
    "triset = geom.createTriangleSet(indices, input_list, \"materialref\")\n",
    "geom.primitives.append(triset)\n",
    "mesh.geometries.append(geom)"
   ]
  },
  {
   "cell_type": "markdown",
   "id": "4b7d594f",
   "metadata": {},
   "source": [
    "We now have everything we need in the object except for a scene. To get the geometry to show up, we have to create a scene. First, we instantiate the geometry into a scene node, mapping it to a material:"
   ]
  },
  {
   "cell_type": "code",
   "execution_count": 9,
   "id": "e78a11c0",
   "metadata": {},
   "outputs": [],
   "source": [
    "matnode = scene.MaterialNode(\"materialref\", mat, inputs=[])\n",
    "geomnode = scene.GeometryNode(geom, [matnode])\n",
    "node = scene.Node(\"node0\", children=[geomnode])"
   ]
  },
  {
   "cell_type": "markdown",
   "id": "a598e7ba",
   "metadata": {},
   "source": [
    "Now that we have the scene node, we can create a scene, add the node to the scene, add the scene to the document, and then set our scene as the default:"
   ]
  },
  {
   "cell_type": "code",
   "execution_count": 10,
   "id": "f27ba77d",
   "metadata": {},
   "outputs": [],
   "source": [
    "myscene = scene.Scene(\"myscene\", [node])\n",
    "mesh.scenes.append(myscene)\n",
    "mesh.scene = myscene"
   ]
  },
  {
   "cell_type": "markdown",
   "id": "d9fb9051",
   "metadata": {},
   "source": [
    "We can now save the document to a file:"
   ]
  },
  {
   "cell_type": "code",
   "execution_count": 13,
   "id": "12e6af33",
   "metadata": {},
   "outputs": [],
   "source": [
    "mesh.write('tmp/collada01.dae')"
   ]
  },
  {
   "cell_type": "markdown",
   "id": "a6264c26",
   "metadata": {},
   "source": [
    "If you load this file, it should look like a red cube. Here’s a screenshot:"
   ]
  },
  {
   "cell_type": "code",
   "execution_count": null,
   "id": "33ebb803",
   "metadata": {},
   "outputs": [],
   "source": []
  },
  {
   "cell_type": "code",
   "execution_count": null,
   "id": "e3224642",
   "metadata": {},
   "outputs": [],
   "source": []
  }
 ],
 "metadata": {
  "kernelspec": {
   "display_name": "Python 3",
   "language": "python",
   "name": "python3"
  },
  "language_info": {
   "codemirror_mode": {
    "name": "ipython",
    "version": 3
   },
   "file_extension": ".py",
   "mimetype": "text/x-python",
   "name": "python",
   "nbconvert_exporter": "python",
   "pygments_lexer": "ipython3",
   "version": "3.8.8"
  }
 },
 "nbformat": 4,
 "nbformat_minor": 5
}
