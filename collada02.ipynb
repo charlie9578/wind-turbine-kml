{
 "cells": [
  {
   "cell_type": "markdown",
   "id": "e9802ad4",
   "metadata": {},
   "source": [
    "# Creating A Collada Object\n",
    "\n",
    "The goal is to produce a basic Collada dae object for display in Google Earth"
   ]
  },
  {
   "cell_type": "code",
   "execution_count": 1,
   "id": "5c88cb73",
   "metadata": {},
   "outputs": [],
   "source": [
    "from collada import *\n",
    "import simplekml\n",
    "import numpy"
   ]
  },
  {
   "cell_type": "markdown",
   "id": "0ed193c4",
   "metadata": {},
   "source": [
    "In this section, we outline how to create a collada document from scratch. First, let’s create an empy collada document:"
   ]
  },
  {
   "cell_type": "code",
   "execution_count": 2,
   "id": "17d79809",
   "metadata": {},
   "outputs": [],
   "source": [
    "mesh = Collada()"
   ]
  },
  {
   "cell_type": "markdown",
   "id": "2a512c2f",
   "metadata": {},
   "source": [
    "We could save this out, but it would be completely blank. Let’s first add a Material to the document:"
   ]
  },
  {
   "cell_type": "code",
   "execution_count": 3,
   "id": "772e2326",
   "metadata": {},
   "outputs": [],
   "source": [
    "mesh = Collada()\n",
    "effect = material.Effect(\"effect0\", [], \"phong\", diffuse=(1,0,0), specular=(0,1,0))\n",
    "mat = material.Material(\"material0\", \"mymaterial\", effect)\n",
    "mesh.effects.append(effect)\n",
    "mesh.materials.append(mat)"
   ]
  },
  {
   "cell_type": "markdown",
   "id": "20cfedd1",
   "metadata": {},
   "source": [
    "Note that the second argument to Effect is for parameters. These are used for textures. We omit textures for simplicity here.\n",
    "\n",
    "Next, let’s first create some source arrays. These are going to be used to create a triangle set later:"
   ]
  },
  {
   "cell_type": "code",
   "execution_count": 4,
   "id": "17c516af",
   "metadata": {},
   "outputs": [],
   "source": [
    "vert_floats = [-50,50,50,\n",
    "               50,50,50,\n",
    "               -50,-50,50,\n",
    "               50,-50,50,\n",
    "               -50,50,-50,\n",
    "               50,50,-50,\n",
    "               -50,-50,-50,\n",
    "               50,-50,-50]\n",
    "\n",
    "normal_floats = [0]*72\n",
    "#[0,0,1,\n",
    "#                 0,0,1,\n",
    "#                 0,0,1,\n",
    "#                 0,0,1,\n",
    "#                 0,1,0,\n",
    "#     0,1,0,0,1,0,0,1,0,0,-1,0,0,-1,0,0,-1,0,0,-1,0,-1,0,0,\n",
    "#     -1,0,0,-1,0,0,-1,0,0,1,0,0,1,0,0,1,0,0,1,0,0,0,0,-1,\n",
    "#     0,0,-1,0,0,-1,0,0,-1]\n",
    "\n",
    "vert_src = source.FloatSource(\"cubeverts-array\", numpy.array(vert_floats), ('X', 'Y', 'Z'))\n",
    "normal_src = source.FloatSource(\"cubenormals-array\", numpy.array(normal_floats), ('X', 'Y', 'Z'))"
   ]
  },
  {
   "cell_type": "code",
   "execution_count": 5,
   "id": "b32b3304",
   "metadata": {},
   "outputs": [
    {
     "data": {
      "text/plain": [
       "array([[1, 2, 3],\n",
       "       [4, 5, 6],\n",
       "       [7, 8, 9]])"
      ]
     },
     "execution_count": 5,
     "metadata": {},
     "output_type": "execute_result"
    }
   ],
   "source": [
    "x = numpy.array([[1,2,3],[4,5,6]])\n",
    "numpy.vstack([x,[7,8,9]])"
   ]
  },
  {
   "cell_type": "code",
   "execution_count": 6,
   "id": "d40b454d",
   "metadata": {},
   "outputs": [],
   "source": [
    "def create_cylinder(radius=5,height=150,sides=8,offset_x=0,offset_y=0,offset_z=0):\n",
    "    \n",
    "    import math\n",
    "    import numpy as np\n",
    "    \n",
    "    angle = 2*math.pi/sides\n",
    "\n",
    "    vert_floats = []\n",
    "    \n",
    "    # create bottom cross-section\n",
    "    for side in range(sides):\n",
    "        #print(sector*angle)\n",
    "\n",
    "        x = radius*math.cos(side*angle)+offset_x\n",
    "        y = radius*math.sin(side*angle)+offset_y\n",
    "        z = 0+offset_z\n",
    "\n",
    "        vert_floats.append(x)\n",
    "        vert_floats.append(y)\n",
    "        vert_floats.append(z)\n",
    "\n",
    "        \n",
    "    # create top cross-section\n",
    "    for side in range(sides):\n",
    "        #print(sector*angle)\n",
    "\n",
    "        x = radius*math.cos(side*angle)+offset_x\n",
    "        y = radius*math.sin(side*angle)+offset_y\n",
    "        z = height+offset_z\n",
    "\n",
    "        vert_floats.append(x)\n",
    "        vert_floats.append(y)\n",
    "        vert_floats.append(z)\n",
    "\n",
    "    #print(vert_floats)\n",
    "\n",
    "    \n",
    "    # define triangles\n",
    "    indices = []\n",
    "    for side in range(sides):\n",
    "        tri1 = (0+side)%sides\n",
    "        tri2 = (1+side)%sides\n",
    "        tri3 = sides+side\n",
    "\n",
    "        indices.append(tri1)\n",
    "        indices.append(int(len(indices)/2-0.5))\n",
    "        indices.append(tri2)\n",
    "        indices.append(int(len(indices)/2-0.5))\n",
    "        indices.append(tri3)\n",
    "        indices.append(int(len(indices)/2-0.5))\n",
    "\n",
    "        tri4 = sides+(side+1)%sides\n",
    "\n",
    "        indices.append(tri2)\n",
    "        indices.append(int(len(indices)/2-0.5))\n",
    "        indices.append(tri3)\n",
    "        indices.append(int(len(indices)/2-0.5))\n",
    "        indices.append(tri4)\n",
    "        indices.append(int(len(indices)/2-0.5))\n",
    "\n",
    "    #print(indices)\n",
    "\n",
    "    return vert_floats,indices\n"
   ]
  },
  {
   "cell_type": "code",
   "execution_count": 7,
   "id": "6983b4e0",
   "metadata": {},
   "outputs": [],
   "source": [
    "def list_adder(lst,value):\n",
    "    \n",
    "    new_list = [item + value for item in lst]\n",
    "    \n",
    "    return new_list\n"
   ]
  },
  {
   "cell_type": "code",
   "execution_count": 8,
   "id": "d870d225",
   "metadata": {},
   "outputs": [],
   "source": [
    "# create tower\n",
    "tower_vert_floats,tower_indices = create_cylinder(radius=5,height=150,sides=8,offset_x=0,offset_y=0,offset_z=0)\n",
    "\n",
    "# create nacelle\n",
    "nacelle_vert_floats,nacelle_indices = create_cylinder(radius=10,height=10,sides=4,offset_x=0,offset_y=0,offset_z=150)\n",
    "\n",
    "nacelle_indices = list_adder(nacelle_indices,int(len(tower_vert_floats)/3))\n",
    "\n",
    "vert_floats = tower_vert_floats + nacelle_vert_floats\n",
    "indices = tower_indices + nacelle_indices\n",
    "\n",
    "\n",
    "\n",
    "normal_floats = [0]*len(vert_floats)*3\n",
    "\n",
    "vert_src = source.FloatSource(\"cubeverts-array\", numpy.array(vert_floats), ('X', 'Y', 'Z'))\n",
    "normal_src = source.FloatSource(\"cubenormals-array\", numpy.array(normal_floats), ('X', 'Y', 'Z'))\n",
    "\n",
    "geom = geometry.Geometry(mesh, \"geometry0\", \"mycube\", [vert_src, normal_src])\n",
    "\n",
    "input_list = source.InputList()\n",
    "input_list.addInput(0, 'VERTEX', \"#cubeverts-array\")\n",
    "input_list.addInput(1, 'NORMAL', \"#cubenormals-array\")\n",
    "\n",
    "indices = numpy.array(indices)\n",
    "\n",
    "triset = geom.createTriangleSet(indices, input_list, \"materialref\")\n",
    "geom.primitives.append(triset)\n",
    "mesh.geometries.append(geom)\n",
    "\n",
    "matnode = scene.MaterialNode(\"materialref\", mat, inputs=[])\n",
    "geomnode = scene.GeometryNode(geom, [matnode])\n",
    "node = scene.Node(\"node0\", children=[geomnode])\n",
    "\n",
    "myscene = scene.Scene(\"myscene\", [node])\n",
    "mesh.scenes.append(myscene)\n",
    "mesh.scene = myscene\n",
    "\n",
    "mesh.write('tmp/collada02.dae')"
   ]
  },
  {
   "cell_type": "code",
   "execution_count": 13,
   "id": "f35f1f92",
   "metadata": {},
   "outputs": [],
   "source": [
    "a=numpy.array(tower_indices + nacelle_indices)"
   ]
  },
  {
   "cell_type": "code",
   "execution_count": 14,
   "id": "a2b01868",
   "metadata": {},
   "outputs": [
    {
     "data": {
      "text/plain": [
       "array([ 0,  0,  1,  1,  8,  2,  1,  3,  8,  4,  9,  5,  1,  6,  2,  7,  9,\n",
       "        8,  2,  9,  9, 10, 10, 11,  2, 12,  3, 13, 10, 14,  3, 15, 10, 16,\n",
       "       11, 17,  3, 18,  4, 19, 11, 20,  4, 21, 11, 22, 12, 23,  4, 24,  5,\n",
       "       25, 12, 26,  5, 27, 12, 28, 13, 29,  5, 30,  6, 31, 13, 32,  6, 33,\n",
       "       13, 34, 14, 35,  6, 36,  7, 37, 14, 38,  7, 39, 14, 40, 15, 41,  7,\n",
       "       42,  0, 43, 15, 44,  0, 45, 15, 46,  8, 47, 16, 16, 17, 17, 20, 18,\n",
       "       17, 19, 20, 20, 21, 21, 17, 22, 18, 23, 21, 24, 18, 25, 21, 26, 22,\n",
       "       27, 18, 28, 19, 29, 22, 30, 19, 31, 22, 32, 23, 33, 19, 34, 16, 35,\n",
       "       23, 36, 16, 37, 23, 38, 20, 39])"
      ]
     },
     "execution_count": 14,
     "metadata": {},
     "output_type": "execute_result"
    }
   ],
   "source": [
    "a"
   ]
  },
  {
   "cell_type": "code",
   "execution_count": null,
   "id": "298b1d99",
   "metadata": {},
   "outputs": [],
   "source": []
  }
 ],
 "metadata": {
  "kernelspec": {
   "display_name": "Python 3",
   "language": "python",
   "name": "python3"
  },
  "language_info": {
   "codemirror_mode": {
    "name": "ipython",
    "version": 3
   },
   "file_extension": ".py",
   "mimetype": "text/x-python",
   "name": "python",
   "nbconvert_exporter": "python",
   "pygments_lexer": "ipython3",
   "version": "3.8.8"
  }
 },
 "nbformat": 4,
 "nbformat_minor": 5
}
