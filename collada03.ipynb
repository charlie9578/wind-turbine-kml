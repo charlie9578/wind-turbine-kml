{
 "cells": [
  {
   "cell_type": "markdown",
   "id": "e9802ad4",
   "metadata": {},
   "source": [
    "# Creating A Collada Object - produces a basic wind turbine\n",
    "\n",
    "The goal is to produce a basic Collada dae wind turbine object for display in Google Earth"
   ]
  },
  {
   "cell_type": "code",
   "execution_count": 1,
   "id": "5c88cb73",
   "metadata": {},
   "outputs": [],
   "source": [
    "from collada import *\n",
    "import simplekml\n",
    "import numpy as np"
   ]
  },
  {
   "cell_type": "markdown",
   "id": "0ed193c4",
   "metadata": {},
   "source": [
    "In this section, we outline how to create a collada document from scratch. First, let’s create an empy collada document:"
   ]
  },
  {
   "cell_type": "code",
   "execution_count": 2,
   "id": "17d79809",
   "metadata": {},
   "outputs": [],
   "source": [
    "mesh = Collada()"
   ]
  },
  {
   "cell_type": "markdown",
   "id": "2a512c2f",
   "metadata": {},
   "source": [
    "We could save this out, but it would be completely blank. Let’s first add a Material to the document:"
   ]
  },
  {
   "cell_type": "code",
   "execution_count": 3,
   "id": "772e2326",
   "metadata": {},
   "outputs": [],
   "source": [
    "mesh = Collada()\n",
    "effect = material.Effect(\"effect0\", [], \"phong\", diffuse=(1,0,0), specular=(0,1,0))\n",
    "mat = material.Material(\"material0\", \"mymaterial\", effect)\n",
    "mesh.effects.append(effect)\n",
    "mesh.materials.append(mat)"
   ]
  },
  {
   "cell_type": "code",
   "execution_count": 4,
   "id": "d40b454d",
   "metadata": {},
   "outputs": [],
   "source": [
    "def create_cylinder(radius=5,length=150,sides=8):\n",
    "    \n",
    "    import math\n",
    "    import numpy as np\n",
    "    \n",
    "    angle = 2*math.pi/sides\n",
    "\n",
    "    vert_floats = np.empty([0,3])\n",
    "    \n",
    "    # create bottom cross-section\n",
    "    for side in range(sides):\n",
    "        #print(sector*angle)\n",
    "\n",
    "        x = radius*math.cos(side*angle)\n",
    "        y = radius*math.sin(side*angle)\n",
    "        z = 0\n",
    "\n",
    "        vert_floats = np.vstack([vert_floats,[x,y,z]])\n",
    "        \n",
    "    # create top cross-section\n",
    "    for side in range(sides):\n",
    "        #print(sector*angle)\n",
    "\n",
    "        x = radius*math.cos(side*angle)\n",
    "        y = radius*math.sin(side*angle)\n",
    "        z = length\n",
    "\n",
    "        vert_floats = np.vstack([vert_floats,[x,y,z]])\n",
    "\n",
    "    #print(vert_floats)\n",
    "\n",
    "    \n",
    "    # define triangles\n",
    "    indices = np.empty([0,6])\n",
    "    \n",
    "    for side in range(sides):\n",
    "        tri1 = (0+side)%sides\n",
    "        tri2 = (1+side)%sides\n",
    "        tri3 = sides+side\n",
    "        tri4 = sides+(side+1)%sides\n",
    "        \n",
    "        base_index = int(indices.size/2)\n",
    "        \n",
    "        indices = np.vstack([indices,\n",
    "                              [tri1,base_index,tri2,base_index+1,tri3,base_index+2],\n",
    "                              [tri2,base_index+3,tri3,base_index+4,tri4,base_index+5]\n",
    "                             ])\n",
    "\n",
    "\n",
    "\n",
    "    indices = indices.astype(int)\n",
    "    #print(indices)\n",
    "\n",
    "    return vert_floats,indices\n"
   ]
  },
  {
   "cell_type": "code",
   "execution_count": 5,
   "id": "dc1c3b99",
   "metadata": {},
   "outputs": [],
   "source": [
    "def list_adder(lst,value):\n",
    "    \n",
    "    new_list = [item + value for item in lst]\n",
    "    \n",
    "    return new_list\n"
   ]
  },
  {
   "cell_type": "code",
   "execution_count": 6,
   "id": "99f5b1b0",
   "metadata": {},
   "outputs": [],
   "source": [
    "def rotation_matrix(x_degrees=0,y_degrees=0,z_degrees=0):\n",
    "    \n",
    "    theta_x = np.radians(x_degrees)\n",
    "    rx = np.array([[1,0,0],\n",
    "                   [0,np.cos(theta_x),-np.sin(theta_x)],\n",
    "                   [0,np.sin(theta_x), np.cos(theta_x)]])\n",
    "    \n",
    "    theta_y = np.radians(y_degrees)\n",
    "    ry = np.array([[np.cos(theta_y),0,np.sin(theta_y)],\n",
    "                   [0,1,0],\n",
    "                   [-np.sin(theta_y),0, np.cos(theta_y)]])\n",
    "    \n",
    "    theta_z = np.radians(z_degrees)\n",
    "    rz = np.array([[np.cos(theta_z),-np.sin(theta_z),0],\n",
    "                   [np.sin(theta_z), np.cos(theta_z),0],\n",
    "                   [0,0,1]])\n",
    "    \n",
    "    r = rx.dot(ry.dot(rz))\n",
    "    \n",
    "    return r"
   ]
  },
  {
   "cell_type": "code",
   "execution_count": 7,
   "id": "96d2b236",
   "metadata": {},
   "outputs": [],
   "source": [
    "def create_blade(height=100,rotor_diamter=120,rotation=0):\n",
    "\n",
    "    blade_vert_floats,blade_indices = create_cylinder(radius=2,length=rotor_diamter/2,sides=8)\n",
    "\n",
    "    blade_vert_floats = blade_vert_floats.dot(rotation_matrix(x_degrees=rotation,y_degrees=0,z_degrees=0))\n",
    "\n",
    "    blade_vert_floats[:,0] = blade_vert_floats[:,0]+25\n",
    "    blade_vert_floats[:,2] = blade_vert_floats[:,2]+height+5\n",
    "    \n",
    "    return blade_vert_floats,blade_indices"
   ]
  },
  {
   "cell_type": "code",
   "execution_count": 8,
   "id": "d870d225",
   "metadata": {},
   "outputs": [],
   "source": [
    "height = 100\n",
    "rotor_diamter = 120\n",
    "\n",
    "# create tower\n",
    "tower_vert_floats,tower_indices = create_cylinder(radius=5,length=height,sides=8)\n",
    "\n",
    "\n",
    "# create nacelle\n",
    "nacelle_vert_floats,nacelle_indices = create_cylinder(radius=8,length=50,sides=4)\n",
    "\n",
    "nacelle_vert_floats = nacelle_vert_floats.dot(rotation_matrix(x_degrees=0,y_degrees=0,z_degrees=45))\n",
    "nacelle_vert_floats = nacelle_vert_floats.dot(rotation_matrix(x_degrees=0,y_degrees=90,z_degrees=0))\n",
    "\n",
    "nacelle_vert_floats[:,0] = nacelle_vert_floats[:,0]+20\n",
    "nacelle_vert_floats[:,2] = nacelle_vert_floats[:,2]+height+5\n",
    "\n",
    "\n",
    "# create blades\n",
    "blade1_vert_floats,blade1_indices = create_blade(height=100,rotor_diamter=120,rotation=0)\n",
    "blade2_vert_floats,blade2_indices = create_blade(height=100,rotor_diamter=120,rotation=120)\n",
    "blade3_vert_floats,blade3_indices = create_blade(height=100,rotor_diamter=120,rotation=240)\n",
    "\n",
    "\n",
    "# combine objects\n",
    "vert_floats = np.vstack([tower_vert_floats,nacelle_vert_floats,blade1_vert_floats,blade2_vert_floats,blade3_vert_floats])\n",
    "\n",
    "nacelle_indices = nacelle_indices + tower_vert_floats.size/3\n",
    "blade1_indices = blade1_indices + (tower_vert_floats.size+nacelle_vert_floats.size)/3\n",
    "blade2_indices = blade2_indices + (tower_vert_floats.size+nacelle_vert_floats.size+blade1_vert_floats.size)/3\n",
    "blade3_indices = blade3_indices + (tower_vert_floats.size+nacelle_vert_floats.size+blade1_vert_floats.size+blade2_vert_floats.size)/3\n",
    "\n",
    "indices = np.vstack([tower_indices,nacelle_indices,blade1_indices,blade2_indices,blade3_indices]).astype(int)\n",
    "\n",
    "\n",
    "\n",
    "normal_floats = [0]*vert_floats.size*3\n",
    "\n",
    "vert_src = source.FloatSource(\"cubeverts-array\", vert_floats.flatten(), ('X', 'Y', 'Z'))\n",
    "normal_src = source.FloatSource(\"cubenormals-array\", np.array(normal_floats), ('X', 'Y', 'Z'))\n",
    "\n",
    "geom = geometry.Geometry(mesh, \"geometry0\", \"mycube\", [vert_src, normal_src])\n",
    "\n",
    "input_list = source.InputList()\n",
    "input_list.addInput(0, 'VERTEX', \"#cubeverts-array\")\n",
    "input_list.addInput(1, 'NORMAL', \"#cubenormals-array\")\n",
    "\n",
    "triset = geom.createTriangleSet(indices.flatten(), input_list, \"materialref\")\n",
    "geom.primitives.append(triset)\n",
    "mesh.geometries.append(geom)\n",
    "\n",
    "matnode = scene.MaterialNode(\"materialref\", mat, inputs=[])\n",
    "geomnode = scene.GeometryNode(geom, [matnode])\n",
    "node = scene.Node(\"node0\", children=[geomnode])\n",
    "\n",
    "myscene = scene.Scene(\"myscene\", [node])\n",
    "mesh.scenes.append(myscene)\n",
    "mesh.scene = myscene\n",
    "\n",
    "mesh.write('tmp/collada03.dae')"
   ]
  },
  {
   "cell_type": "code",
   "execution_count": 9,
   "id": "691239fc",
   "metadata": {},
   "outputs": [
    {
     "data": {
      "text/plain": [
       "array([[ 5.00000000e+00,  0.00000000e+00,  0.00000000e+00],\n",
       "       [ 3.53553391e+00,  3.53553391e+00,  0.00000000e+00],\n",
       "       [ 3.06161700e-16,  5.00000000e+00,  0.00000000e+00],\n",
       "       [-3.53553391e+00,  3.53553391e+00,  0.00000000e+00],\n",
       "       [-5.00000000e+00,  6.12323400e-16,  0.00000000e+00],\n",
       "       [-3.53553391e+00, -3.53553391e+00,  0.00000000e+00],\n",
       "       [-9.18485099e-16, -5.00000000e+00,  0.00000000e+00],\n",
       "       [ 3.53553391e+00, -3.53553391e+00,  0.00000000e+00],\n",
       "       [ 5.00000000e+00,  0.00000000e+00,  1.00000000e+02],\n",
       "       [ 3.53553391e+00,  3.53553391e+00,  1.00000000e+02],\n",
       "       [ 3.06161700e-16,  5.00000000e+00,  1.00000000e+02],\n",
       "       [-3.53553391e+00,  3.53553391e+00,  1.00000000e+02],\n",
       "       [-5.00000000e+00,  6.12323400e-16,  1.00000000e+02],\n",
       "       [-3.53553391e+00, -3.53553391e+00,  1.00000000e+02],\n",
       "       [-9.18485099e-16, -5.00000000e+00,  1.00000000e+02],\n",
       "       [ 3.53553391e+00, -3.53553391e+00,  1.00000000e+02]])"
      ]
     },
     "execution_count": 9,
     "metadata": {},
     "output_type": "execute_result"
    }
   ],
   "source": [
    "tower_vert_floats"
   ]
  },
  {
   "cell_type": "code",
   "execution_count": 10,
   "id": "3616fc25",
   "metadata": {},
   "outputs": [
    {
     "data": {
      "text/plain": [
       "array([[16., 16., 17., 17., 20., 18.],\n",
       "       [17., 19., 20., 20., 21., 21.],\n",
       "       [17., 22., 18., 23., 21., 24.],\n",
       "       [18., 25., 21., 26., 22., 27.],\n",
       "       [18., 28., 19., 29., 22., 30.],\n",
       "       [19., 31., 22., 32., 23., 33.],\n",
       "       [19., 34., 16., 35., 23., 36.],\n",
       "       [16., 37., 23., 38., 20., 39.]])"
      ]
     },
     "execution_count": 10,
     "metadata": {},
     "output_type": "execute_result"
    }
   ],
   "source": [
    "nacelle_indices"
   ]
  },
  {
   "cell_type": "code",
   "execution_count": 11,
   "id": "a6cbf0ac",
   "metadata": {},
   "outputs": [
    {
     "data": {
      "text/plain": [
       "array([[ 0,  0,  1,  1,  8,  2],\n",
       "       [ 1,  3,  8,  4,  9,  5],\n",
       "       [ 1,  6,  2,  7,  9,  8],\n",
       "       [ 2,  9,  9, 10, 10, 11],\n",
       "       [ 2, 12,  3, 13, 10, 14],\n",
       "       [ 3, 15, 10, 16, 11, 17],\n",
       "       [ 3, 18,  4, 19, 11, 20],\n",
       "       [ 4, 21, 11, 22, 12, 23],\n",
       "       [ 4, 24,  5, 25, 12, 26],\n",
       "       [ 5, 27, 12, 28, 13, 29],\n",
       "       [ 5, 30,  6, 31, 13, 32],\n",
       "       [ 6, 33, 13, 34, 14, 35],\n",
       "       [ 6, 36,  7, 37, 14, 38],\n",
       "       [ 7, 39, 14, 40, 15, 41],\n",
       "       [ 7, 42,  0, 43, 15, 44],\n",
       "       [ 0, 45, 15, 46,  8, 47]])"
      ]
     },
     "execution_count": 11,
     "metadata": {},
     "output_type": "execute_result"
    }
   ],
   "source": [
    "tower_indices"
   ]
  },
  {
   "cell_type": "code",
   "execution_count": null,
   "id": "7a40b4ba",
   "metadata": {},
   "outputs": [],
   "source": []
  }
 ],
 "metadata": {
  "kernelspec": {
   "display_name": "Python 3",
   "language": "python",
   "name": "python3"
  },
  "language_info": {
   "codemirror_mode": {
    "name": "ipython",
    "version": 3
   },
   "file_extension": ".py",
   "mimetype": "text/x-python",
   "name": "python",
   "nbconvert_exporter": "python",
   "pygments_lexer": "ipython3",
   "version": "3.8.8"
  }
 },
 "nbformat": 4,
 "nbformat_minor": 5
}
