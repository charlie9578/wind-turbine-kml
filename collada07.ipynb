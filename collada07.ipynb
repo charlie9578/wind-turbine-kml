{
 "cells": [
  {
   "cell_type": "code",
   "execution_count": 8,
   "id": "76fdac13",
   "metadata": {},
   "outputs": [],
   "source": [
    "import colladaWT\n",
    "import simplekml"
   ]
  },
  {
   "cell_type": "code",
   "execution_count": 13,
   "id": "8332dd0b",
   "metadata": {},
   "outputs": [],
   "source": [
    "# create turbine\n",
    "collada_wt = colladaWT.create_turbine(tower_height=95,\n",
    "                   tower_bot_diameter = 4,\n",
    "                   tower_top_diameter = 3,\n",
    "                   nacelle_height = 3,\n",
    "                   nacelle_length = 20,\n",
    "                   nacelle_overhang = 8,\n",
    "                   rotor_diameter = 150,\n",
    "                   blade_root_length = 2.5,\n",
    "                   blade_root_diameter = 2,\n",
    "                   blade_chord=4,\n",
    "                   blade_tip_size=0.5,\n",
    "                   blade_twist=30,                   \n",
    "                  )\n",
    "\n",
    "collada_wt.write('tmp/collada07.dae')"
   ]
  },
  {
   "cell_type": "code",
   "execution_count": 14,
   "id": "86ac28a0",
   "metadata": {},
   "outputs": [],
   "source": [
    "# create kml for Google Earth\n",
    "kml = simplekml.Kml()\n",
    "\n",
    "model = kml.newmodel(name='WindTurbine01')\n",
    "model.description = \"A wind turbine\"\n",
    "model.link.href = 'collada06.dae'\n",
    "model.altitudemode = 'clampToGround'\n",
    "model.location.latitude = 52\n",
    "model.location.longitude = 0\n",
    "model.scale.x = 1\n",
    "model.scale.y = 1\n",
    "model.scale.z = 1\n",
    "\n",
    "model = kml.newmodel(name='WindTurbine02',)\n",
    "model.link.href = 'collada07.dae'\n",
    "model.altitudemode = 'clampToGround'\n",
    "model.location.latitude = 52.005\n",
    "model.location.longitude = 0\n",
    "model.scale.x = 1\n",
    "model.scale.y = 1\n",
    "model.scale.z = 1\n",
    "\n",
    "kml.save(\"tmp/windfarm2.kml\")"
   ]
  },
  {
   "cell_type": "code",
   "execution_count": null,
   "id": "4291279c",
   "metadata": {},
   "outputs": [],
   "source": []
  }
 ],
 "metadata": {
  "kernelspec": {
   "display_name": "Python 3",
   "language": "python",
   "name": "python3"
  },
  "language_info": {
   "codemirror_mode": {
    "name": "ipython",
    "version": 3
   },
   "file_extension": ".py",
   "mimetype": "text/x-python",
   "name": "python",
   "nbconvert_exporter": "python",
   "pygments_lexer": "ipython3",
   "version": "3.8.8"
  }
 },
 "nbformat": 4,
 "nbformat_minor": 5
}
