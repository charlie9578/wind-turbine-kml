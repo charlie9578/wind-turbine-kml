{
  "nbformat": 4,
  "nbformat_minor": 0,
  "metadata": {
    "colab": {
      "name": "windTurbineModelKML.ipynb",
      "provenance": [],
      "authorship_tag": "ABX9TyOBtL29kKpqX+zv9gaTQItc",
      "include_colab_link": true
    },
    "kernelspec": {
      "name": "python3",
      "display_name": "Python 3"
    }
  },
  "cells": [
    {
      "cell_type": "markdown",
      "metadata": {
        "id": "view-in-github",
        "colab_type": "text"
      },
      "source": [
        "<a href=\"https://colab.research.google.com/github/charlie9578/wind-turbine-kml/blob/master/windTurbineModelKML.ipynb\" target=\"_parent\"><img src=\"https://colab.research.google.com/assets/colab-badge.svg\" alt=\"Open In Colab\"/></a>"
      ]
    },
    {
      "cell_type": "code",
      "metadata": {
        "id": "vZO1K9I73rgl",
        "colab_type": "code",
        "colab": {
          "base_uri": "https://localhost:8080/",
          "height": 105
        },
        "outputId": "fe33d7f8-d37b-430e-8ab4-d09735f4fa01"
      },
      "source": [
        "!pip install simplekml\n",
        "!pip install pycollada"
      ],
      "execution_count": 17,
      "outputs": [
        {
          "output_type": "stream",
          "text": [
            "Requirement already satisfied: simplekml in /usr/local/lib/python3.6/dist-packages (1.3.5)\n",
            "Requirement already satisfied: pycollada in /usr/local/lib/python3.6/dist-packages (0.7.1)\n",
            "Requirement already satisfied: python-dateutil>=2.2 in /usr/local/lib/python3.6/dist-packages (from pycollada) (2.8.1)\n",
            "Requirement already satisfied: six>=1.5 in /usr/local/lib/python3.6/dist-packages (from python-dateutil>=2.2->pycollada) (1.12.0)\n"
          ],
          "name": "stdout"
        }
      ]
    },
    {
      "cell_type": "code",
      "metadata": {
        "id": "7W5sQ58C3zgw",
        "colab_type": "code",
        "colab": {}
      },
      "source": [
        "import simplekml\n",
        "kml = simplekml.Kml()\n",
        "kml.newpoint(name=\"Kirstenbosch\", coords=[(18.432314,-33.988862)])\n",
        "kml.save(\"botanicalgarden.kml\")"
      ],
      "execution_count": 18,
      "outputs": []
    },
    {
      "cell_type": "code",
      "metadata": {
        "id": "K3pOXJmw36YJ",
        "colab_type": "code",
        "colab": {}
      },
      "source": [
        "import collada"
      ],
      "execution_count": 19,
      "outputs": []
    },
    {
      "cell_type": "code",
      "metadata": {
        "id": "u6tGqEi236eQ",
        "colab_type": "code",
        "colab": {}
      },
      "source": [
        "mesh = collada.Collada()\n",
        "effect = collada.material.Effect(\"effect0\", [], \"phong\", diffuse=(1,0,0), specular=(0,1,0))\n",
        "mat = collada.material.Material(\"material0\", \"mymaterial\", effect)\n",
        "mesh.effects.append(effect)\n",
        "mesh.materials.append(mat)"
      ],
      "execution_count": 20,
      "outputs": []
    },
    {
      "cell_type": "code",
      "metadata": {
        "id": "uqhQxll-36jD",
        "colab_type": "code",
        "colab": {}
      },
      "source": [
        "import numpy\n",
        "vert_floats = [-50,50,50,50,50,50,-50,-50,50,50,\n",
        "     -50,50,-50,50,-50,50,50,-50,-50,-50,-50,50,-50,-50]\n",
        "normal_floats = [0,0,1,0,0,1,0,0,1,0,0,1,0,1,0,\n",
        "     0,1,0,0,1,0,0,1,0,0,-1,0,0,-1,0,0,-1,0,0,-1,0,-1,0,0,\n",
        "     -1,0,0,-1,0,0,-1,0,0,1,0,0,1,0,0,1,0,0,1,0,0,0,0,-1,\n",
        "     0,0,-1,0,0,-1,0,0,-1]\n",
        "vert_src = collada.source.FloatSource(\"cubeverts-array\", numpy.array(vert_floats), ('X', 'Y', 'Z'))\n",
        "normal_src = collada.source.FloatSource(\"cubenormals-array\", numpy.array(normal_floats), ('X', 'Y', 'Z'))"
      ],
      "execution_count": 21,
      "outputs": []
    },
    {
      "cell_type": "code",
      "metadata": {
        "id": "ycJLf7vm36n1",
        "colab_type": "code",
        "colab": {}
      },
      "source": [
        "geom = collada.geometry.Geometry(mesh, \"geometry0\", \"mycube\", [vert_src, normal_src])"
      ],
      "execution_count": 22,
      "outputs": []
    },
    {
      "cell_type": "code",
      "metadata": {
        "id": "oAM07eb9980F",
        "colab_type": "code",
        "colab": {}
      },
      "source": [
        ""
      ],
      "execution_count": 22,
      "outputs": []
    },
    {
      "cell_type": "markdown",
      "metadata": {
        "id": "CM8oo981-CIa",
        "colab_type": "text"
      },
      "source": [
        "To add a triangle set to the geometry, we can call the Geometry.createTriangleSet() method. To do this, we need to define the inputs to the triangle set. In this case, we are going to input the arrays we previously defined:"
      ]
    },
    {
      "cell_type": "code",
      "metadata": {
        "id": "hNZ_HOmz983m",
        "colab_type": "code",
        "colab": {}
      },
      "source": [
        "input_list = collada.source.InputList()\n",
        "input_list.addInput(0, 'VERTEX', \"#cubeverts-array\")\n",
        "input_list.addInput(1, 'NORMAL', \"#cubenormals-array\")"
      ],
      "execution_count": 23,
      "outputs": []
    },
    {
      "cell_type": "markdown",
      "metadata": {
        "id": "grT50n0G-MQk",
        "colab_type": "text"
      },
      "source": [
        "This says to use the source with identifier cubeverts-array as the vertex source and source with identifier cubenormals-array as the normal source. The offsets indicate that the vertex data is the first offset in the index array and the normal data is the second offset in the index array. Let’s now create the index array:"
      ]
    },
    {
      "cell_type": "code",
      "metadata": {
        "id": "h6hIQAoT988D",
        "colab_type": "code",
        "colab": {}
      },
      "source": [
        "indices = numpy.array([0,0,2,1,3,2,0,0,3,2,1,3,0,4,1,5,5,6,0,\n",
        "     4,5,6,4,7,6,8,7,9,3,10,6,8,3,10,2,11,0,12,\n",
        "     4,13,6,14,0,12,6,14,2,15,3,16,7,17,5,18,3,\n",
        "     16,5,18,1,19,5,20,7,21,6,22,5,20,6,22,4,23])"
      ],
      "execution_count": 24,
      "outputs": []
    },
    {
      "cell_type": "markdown",
      "metadata": {
        "id": "q93RtYWf-NME",
        "colab_type": "text"
      },
      "source": [
        "Now that we have an index array, an input list, and a material, we can create a triangle set and add it to the geometry’s list of primitives. We then add it to the list of geometries in the mesh:"
      ]
    },
    {
      "cell_type": "code",
      "metadata": {
        "id": "878ywqsK98_R",
        "colab_type": "code",
        "colab": {}
      },
      "source": [
        "triset = geom.createTriangleSet(indices, input_list, \"materialref\")\n",
        "geom.primitives.append(triset)\n",
        "mesh.geometries.append(geom)"
      ],
      "execution_count": 25,
      "outputs": []
    },
    {
      "cell_type": "markdown",
      "metadata": {
        "id": "8ad0j8jk-OAj",
        "colab_type": "text"
      },
      "source": [
        "We now have everything we need in the object except for a scene. To get the geometry to show up, we have to create a scene. First, we instantiate the geometry into a scene node, mapping it to a material:\n"
      ]
    },
    {
      "cell_type": "code",
      "metadata": {
        "id": "N2tEHSRA99Co",
        "colab_type": "code",
        "colab": {}
      },
      "source": [
        "matnode = collada.scene.MaterialNode(\"materialref\", mat, inputs=[])\n",
        "geomnode = collada.scene.GeometryNode(geom, [matnode])\n",
        "node = collada.scene.Node(\"node0\", children=[geomnode])"
      ],
      "execution_count": 26,
      "outputs": []
    },
    {
      "cell_type": "markdown",
      "metadata": {
        "id": "86PA1hQf-OmR",
        "colab_type": "text"
      },
      "source": [
        "Now that we have the scene node, we can create a scene, add the node to the scene, add the scene to the document, and then set our scene as the default:\n"
      ]
    },
    {
      "cell_type": "code",
      "metadata": {
        "id": "l2iSrQ_o8X1y",
        "colab_type": "code",
        "colab": {}
      },
      "source": [
        "myscene = collada.scene.Scene(\"myscene\", [node])\n",
        "mesh.scenes.append(myscene)\n",
        "mesh.scene = myscene"
      ],
      "execution_count": 27,
      "outputs": []
    },
    {
      "cell_type": "markdown",
      "metadata": {
        "id": "yGqMeLR1-qM6",
        "colab_type": "text"
      },
      "source": [
        "We can now save the document to a file:"
      ]
    },
    {
      "cell_type": "code",
      "metadata": {
        "id": "QIlnR4h08X5K",
        "colab_type": "code",
        "colab": {}
      },
      "source": [
        "mesh.write('test.dae')"
      ],
      "execution_count": 28,
      "outputs": []
    },
    {
      "cell_type": "markdown",
      "metadata": {
        "id": "25L-hdDS-tzY",
        "colab_type": "text"
      },
      "source": [
        "If you load this file, it should look like a red cube. Here’s a screenshot:"
      ]
    },
    {
      "cell_type": "code",
      "metadata": {
        "id": "YH-GqmC28X9C",
        "colab_type": "code",
        "colab": {}
      },
      "source": [
        "import simplekml\n",
        "kml = simplekml.Kml()\n",
        "#kml.newpoint(name=\"Kirstenbosch\", coords=[(18.432314,-33.988862)])\n",
        "#netlink = kml.newnetworklink(name=\"Network Link\")\n",
        "#netlink.link.href = 'test.dae' #\"http://simplekml.googlecode.com/hg/samples/samples.kml\"\n",
        "model = kml.newmodel(name='cube',)\n",
        "model.link.href = 'https://github.com/charlie9578/wind-turbine-kml/blob/master/test.dae'\n",
        "model.altitudemode = 'clampToGround'\n",
        "model.location.latitude = 52\n",
        "model.location.longitude = 0\n",
        "model.scale.x = 1000\n",
        "model.scale.y = 1000\n",
        "model.scale.z = 1000\n",
        "kml.save(\"botanicalgarden4.kml\")"
      ],
      "execution_count": 67,
      "outputs": []
    },
    {
      "cell_type": "code",
      "metadata": {
        "id": "WlI1JtbGkk-I",
        "colab_type": "code",
        "colab": {}
      },
      "source": [
        ""
      ],
      "execution_count": null,
      "outputs": []
    }
  ]
}